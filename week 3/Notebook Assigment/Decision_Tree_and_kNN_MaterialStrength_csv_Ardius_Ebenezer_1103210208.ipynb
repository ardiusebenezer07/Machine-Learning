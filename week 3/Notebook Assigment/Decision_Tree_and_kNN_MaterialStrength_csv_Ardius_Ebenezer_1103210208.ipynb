{
  "nbformat": 4,
  "nbformat_minor": 0,
  "metadata": {
    "colab": {
      "provenance": [],
      "authorship_tag": "ABX9TyNhKRxXk3IzYHZBYkGvTlKM",
      "include_colab_link": true
    },
    "kernelspec": {
      "name": "python3",
      "display_name": "Python 3"
    },
    "language_info": {
      "name": "python"
    }
  },
  "cells": [
    {
      "cell_type": "markdown",
      "metadata": {
        "id": "view-in-github",
        "colab_type": "text"
      },
      "source": [
        "<a href=\"https://colab.research.google.com/github/ardiusebenezer07/Machine-Learning/blob/main/Decision_Tree_and_kNN_MaterialStrength_csv_Ardius_Ebenezer_1103210208.ipynb\" target=\"_parent\"><img src=\"https://colab.research.google.com/assets/colab-badge.svg\" alt=\"Open In Colab\"/></a>"
      ]
    },
    {
      "cell_type": "code",
      "execution_count": 1,
      "metadata": {
        "id": "W7jkLfP1NSzy"
      },
      "outputs": [],
      "source": [
        "# Import library yang diperlukan\n",
        "import pandas as pd\n",
        "import numpy as np\n",
        "from sklearn.model_selection import train_test_split\n",
        "from sklearn.preprocessing import PolynomialFeatures\n",
        "from sklearn.tree import DecisionTreeRegressor\n",
        "from sklearn.neighbors import KNeighborsRegressor\n",
        "from sklearn.linear_model import LinearRegression\n",
        "from sklearn.metrics import mean_squared_error, r2_score\n",
        "from sklearn.pipeline import make_pipeline"
      ]
    },
    {
      "cell_type": "code",
      "source": [
        "# Baca dataset\n",
        "data = pd.read_csv('MaterialStrength.csv')"
      ],
      "metadata": {
        "id": "EzouPtMvOO47"
      },
      "execution_count": 2,
      "outputs": []
    },
    {
      "cell_type": "code",
      "source": [
        "# 3. Exploratory Data Analysis (EDA)\n",
        "# Mengecek apakah ada nilai yang hilang\n",
        "print(data.isnull().sum())"
      ],
      "metadata": {
        "colab": {
          "base_uri": "https://localhost:8080/"
        },
        "id": "wPDYrt5oOOrA",
        "outputId": "2e6f9f67-c02a-4ee9-f9b7-70652256b91e"
      },
      "execution_count": 4,
      "outputs": [
        {
          "output_type": "stream",
          "name": "stdout",
          "text": [
            "x1                0\n",
            "x2                0\n",
            "x3                0\n",
            "x4                0\n",
            "x5                0\n",
            "x6                0\n",
            "x7                0\n",
            "x8                0\n",
            "x9                0\n",
            "x10               0\n",
            "x11               0\n",
            "x12               0\n",
            "x13               0\n",
            "x14               0\n",
            "x15               0\n",
            "target_feature    0\n",
            "dtype: int64\n"
          ]
        }
      ]
    },
    {
      "cell_type": "code",
      "source": [
        "# Menampilkan ringkasan data\n",
        "print(data.describe())"
      ],
      "metadata": {
        "colab": {
          "base_uri": "https://localhost:8080/"
        },
        "id": "bkl2MY7bOOjw",
        "outputId": "ccd0946c-833a-4acf-95f6-8b3ddc097099"
      },
      "execution_count": 5,
      "outputs": [
        {
          "output_type": "stream",
          "name": "stdout",
          "text": [
            "                x1           x2           x3           x4           x5  \\\n",
            "count  1030.000000  1030.000000  1030.000000  1030.000000  1030.000000   \n",
            "mean    281.167864    73.895825    54.188350   181.567282     6.204660   \n",
            "std     104.506364    86.279342    63.997004    21.354219     5.973841   \n",
            "min     102.000000     0.000000     0.000000   121.800000     0.000000   \n",
            "25%     192.375000     0.000000     0.000000   164.900000     0.000000   \n",
            "50%     272.900000    22.000000     0.000000   185.000000     6.400000   \n",
            "75%     350.000000   142.950000   118.300000   192.000000    10.200000   \n",
            "max     540.000000   359.400000   200.100000   247.000000    32.200000   \n",
            "\n",
            "                x6           x7           x8           x9          x10  \\\n",
            "count  1030.000000  1030.000000  1030.000000  1030.000000  1030.000000   \n",
            "mean    972.918932   773.580485    45.662136     0.748266   409.252039   \n",
            "std      77.753954    80.175980    63.169912     0.314005    92.780669   \n",
            "min     801.000000   594.000000     1.000000     0.266893   200.000000   \n",
            "25%     932.000000   730.950000     7.000000     0.533333   336.425000   \n",
            "50%     968.000000   779.500000    28.000000     0.675349   391.300000   \n",
            "75%    1029.400000   824.000000    56.000000     0.935165   483.700000   \n",
            "max    1145.000000   992.600000   365.000000     1.882353   640.000000   \n",
            "\n",
            "               x11          x12          x13  target_feature  \n",
            "count  1030.000000  1030.000000  1030.000000     1030.000000  \n",
            "mean      1.273752     0.632039     1.213469       35.817961  \n",
            "std       0.185670     0.482485     1.521690       16.705742  \n",
            "min       0.858453     0.000000     0.072046        2.330000  \n",
            "25%       1.121488     0.000000     0.443705       23.710000  \n",
            "50%       1.266055     1.000000     0.767702       34.445000  \n",
            "75%       1.358146     1.000000     1.331512       46.135000  \n",
            "max       1.874876     1.000000    14.553429       82.600000  \n"
          ]
        }
      ]
    },
    {
      "cell_type": "code",
      "source": [
        "# 4. Preprocessing\n",
        "# Memisahkan fitur (X) dan target (y)\n",
        "X = data.drop(columns=['x1','x2','x3','x4','x5','x6','x7','x8','x9','x10','x11','x12','x13'])\n",
        "y = data['target_feature']"
      ],
      "metadata": {
        "id": "eDxww-ahO9lV"
      },
      "execution_count": 9,
      "outputs": []
    },
    {
      "cell_type": "code",
      "source": [
        "# Membagi dataset menjadi train dan test (80% training, 20% testing)\n",
        "X_train, X_test, y_train, y_test = train_test_split(X, y, test_size=0.2, random_state=42)"
      ],
      "metadata": {
        "id": "6-V3pNa1Pzho"
      },
      "execution_count": 10,
      "outputs": []
    },
    {
      "cell_type": "code",
      "source": [
        "# Melakukan scaling pada fitur karena k-NN dan Linear Regression sensitif terhadap skala\n",
        "scaler = StandardScaler()\n",
        "X_train_scaled = scaler.fit_transform(X_train)\n",
        "X_test_scaled = scaler.transform(X_test)"
      ],
      "metadata": {
        "id": "yrtjA_m4P8M6"
      },
      "execution_count": null,
      "outputs": []
    },
    {
      "cell_type": "code",
      "source": [
        "# 5. Model Fitting: Decision Tree Regressor\n",
        "# Membuat model decision tree dan melatihnya\n",
        "tree_model = DecisionTreeRegressor(random_state=42)\n",
        "tree_model.fit(X_train, y_train)"
      ],
      "metadata": {
        "id": "Rfx7HxjrP82M"
      },
      "execution_count": null,
      "outputs": []
    },
    {
      "cell_type": "code",
      "source": [
        "# 6. Model Fitting: k-NN Regressor\n",
        "# Membuat model k-NN dengan k=5\n",
        "knn_model = KNeighborsRegressor(n_neighbors=5)\n",
        "knn_model.fit(X_train_scaled, y_train)"
      ],
      "metadata": {
        "id": "OoABv_YhQAwi"
      },
      "execution_count": null,
      "outputs": []
    },
    {
      "cell_type": "code",
      "source": [
        "# 7. Model Fitting: Linear Regression\n",
        "# Membuat model regresi linear biasa\n",
        "linear_model = LinearRegression()\n",
        "linear_model.fit(X_train_scaled, y_train)"
      ],
      "metadata": {
        "id": "Y8GMECAhQApF"
      },
      "execution_count": null,
      "outputs": []
    },
    {
      "cell_type": "code",
      "source": [
        "# 8. Model Fitting: Linear Regression dengan Basis Fungsi (Polynomial Regression)\n",
        "# Menggunakan polynomial degree = 2 sebagai basis fungsi\n",
        "poly = PolynomialFeatures(degree=2)\n",
        "X_train_poly = poly.fit_transform(X_train_scaled)\n",
        "X_test_poly = poly.transform(X_test_scaled)"
      ],
      "metadata": {
        "id": "iunnEhHyQAh5"
      },
      "execution_count": null,
      "outputs": []
    },
    {
      "cell_type": "code",
      "source": [
        "# Melatih model regresi linear pada data dengan basis fungsi\n",
        "linear_poly_model = LinearRegression()\n",
        "linear_poly_model.fit(X_train_poly, y_train)"
      ],
      "metadata": {
        "id": "uaLQf1-QQI7j"
      },
      "execution_count": null,
      "outputs": []
    },
    {
      "cell_type": "code",
      "source": [
        "# 9. Evaluation: Decision Tree\n",
        "y_pred_tree = tree_model.predict(X_test)\n",
        "mse_tree = mean_squared_error(y_test, y_pred_tree)\n",
        "rmse_tree = np.sqrt(mse_tree)\n",
        "r2_tree = r2_score(y_test, y_pred_tree)"
      ],
      "metadata": {
        "id": "SMD0cLmSQJTH"
      },
      "execution_count": null,
      "outputs": []
    },
    {
      "cell_type": "code",
      "source": [
        "# 10. Evaluation: k-NN\n",
        "y_pred_knn = knn_model.predict(X_test_scaled)\n",
        "mse_knn = mean_squared_error(y_test, y_pred_knn)\n",
        "rmse_knn = np.sqrt(mse_knn)\n",
        "r2_knn = r2_score(y_test, y_pred_knn)"
      ],
      "metadata": {
        "id": "QWFjv_-4QRsu"
      },
      "execution_count": null,
      "outputs": []
    },
    {
      "cell_type": "code",
      "source": [
        "# 13. Display Results\n",
        "results = pd.DataFrame({\n",
        "    'Model': ['Decision Tree', 'k-NN', 'Linear Regression', 'Polynomial Regression'],\n",
        "    'MSE': [mse_tree, mse_knn, mse_linear, mse_poly],\n",
        "    'RMSE': [rmse_tree, rmse_knn, rmse_linear, rmse_poly],\n",
        "    'R²': [r2_tree, r2_knn, r2_linear, r2_poly]\n",
        "})\n",
        "print(results)"
      ],
      "metadata": {
        "id": "PSb9WFEgQWP1"
      },
      "execution_count": null,
      "outputs": []
    },
    {
      "cell_type": "code",
      "source": [
        "# 14. Plotting\n",
        "plt.bar(results['Model'], results['RMSE'], color=['blue', 'green', 'red', 'purple'])\n",
        "plt.title('RMSE Comparison between Models')\n",
        "plt.xlabel('Model')\n",
        "plt.ylabel('RMSE')\n",
        "plt.show()"
      ],
      "metadata": {
        "id": "5INbmbPHQW62"
      },
      "execution_count": null,
      "outputs": []
    }
  ]
}