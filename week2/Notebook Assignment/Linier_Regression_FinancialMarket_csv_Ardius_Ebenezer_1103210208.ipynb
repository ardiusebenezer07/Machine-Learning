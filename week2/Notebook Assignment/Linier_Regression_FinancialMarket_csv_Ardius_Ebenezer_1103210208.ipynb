{
  "nbformat": 4,
  "nbformat_minor": 0,
  "metadata": {
    "colab": {
      "provenance": [],
      "authorship_tag": "ABX9TyOfzG7FECcPb8KQ4SRBjvaK",
      "include_colab_link": true
    },
    "kernelspec": {
      "name": "python3",
      "display_name": "Python 3"
    },
    "language_info": {
      "name": "python"
    }
  },
  "cells": [
    {
      "cell_type": "markdown",
      "metadata": {
        "id": "view-in-github",
        "colab_type": "text"
      },
      "source": [
        "<a href=\"https://colab.research.google.com/github/ardiusebenezer07/Machine-Learning/blob/main/Linier_Regression_FinancialMarket_csv_Ardius_Ebenezer_1103210208.ipynb\" target=\"_parent\"><img src=\"https://colab.research.google.com/assets/colab-badge.svg\" alt=\"Open In Colab\"/></a>"
      ]
    },
    {
      "cell_type": "code",
      "execution_count": 2,
      "metadata": {
        "id": "EDM2QlERsBnT"
      },
      "outputs": [],
      "source": [
        "# Import required libraries\n",
        "import pandas as pd\n",
        "import numpy as np\n",
        "from sklearn.model_selection import train_test_split\n",
        "from sklearn.preprocessing import StandardScaler, PolynomialFeatures\n",
        "from sklearn.linear_model import LinearRegression\n",
        "from sklearn.metrics import mean_squared_error, r2_score, mean_absolute_error\n",
        "import matplotlib.pyplot as plt\n",
        "import seaborn as sns"
      ]
    },
    {
      "cell_type": "code",
      "source": [
        "# Load the financial market dataset\n",
        "df = pd.read_csv('FinancialMarket.csv')"
      ],
      "metadata": {
        "id": "wNPCCYh0uBVB"
      },
      "execution_count": 3,
      "outputs": []
    },
    {
      "cell_type": "code",
      "source": [
        "# Display the first few rows and basic info about the dataset\n",
        "print(\"Dataset Overview:\")\n",
        "print(df.head())\n",
        "print(\"\\nDataset Info:\")\n",
        "print(df.info())"
      ],
      "metadata": {
        "colab": {
          "base_uri": "https://localhost:8080/"
        },
        "id": "SL54P6dbuBSG",
        "outputId": "f3e44a83-b69d-4674-934f-e18f9d456317"
      },
      "execution_count": 4,
      "outputs": [
        {
          "output_type": "stream",
          "name": "stdout",
          "text": [
            "Dataset Overview:\n",
            "         x  combined_data\n",
            "0  0.00000       0.003073\n",
            "1  0.01001       0.033492\n",
            "2  0.02002      -0.027269\n",
            "3  0.03003       0.176319\n",
            "4  0.04004      -0.006027\n",
            "\n",
            "Dataset Info:\n",
            "<class 'pandas.core.frame.DataFrame'>\n",
            "RangeIndex: 1000 entries, 0 to 999\n",
            "Data columns (total 2 columns):\n",
            " #   Column         Non-Null Count  Dtype  \n",
            "---  ------         --------------  -----  \n",
            " 0   x              1000 non-null   float64\n",
            " 1   combined_data  1000 non-null   float64\n",
            "dtypes: float64(2)\n",
            "memory usage: 15.8 KB\n",
            "None\n"
          ]
        }
      ]
    },
    {
      "cell_type": "code",
      "source": [
        "# Function to prepare data for modeling\n",
        "def prepare_data(df, target_column):\n",
        "    \"\"\"\n",
        "    Prepare the data for modeling by separating features and target\n",
        "\n",
        "    Parameters:\n",
        "    df : DataFrame containing the financial data\n",
        "    target_column : Name of the column to predict\n",
        "\n",
        "    Returns:\n",
        "    X : Feature matrix\n",
        "    y : Target vector\n",
        "    \"\"\"\n",
        "    # Separate features (X) and target variable (y)\n",
        "    X = Data.drop(['Dtype'],axis=1).values\n",
        "    y = Data['Dtype'].values\n",
        "\n",
        "    return X, y"
      ],
      "metadata": {
        "id": "f3BljlhTuBPU"
      },
      "execution_count": 13,
      "outputs": []
    },
    {
      "cell_type": "code",
      "source": [
        "# Split the data into training and testing sets\n",
        "X_train,X_test,y_train,y_test = train_test_split(X,y,random_state=0)"
      ],
      "metadata": {
        "id": "bYxn2XrNuBG5"
      },
      "execution_count": null,
      "outputs": []
    },
    {
      "cell_type": "code",
      "source": [
        "# Replace 'target_column' with your actual target variable name (e.g., 'Price')\n",
        "X, y = prepare_data(df, 'Dtype')  # Replace 'target_column' with actual column name"
      ],
      "metadata": {
        "id": "OqjPRqK_uBCu"
      },
      "execution_count": null,
      "outputs": []
    },
    {
      "cell_type": "code",
      "source": [
        "# Scale the features\n",
        "scaler = StandardScaler()\n",
        "X_train_scaled = scaler.fit_transform(X_train)\n",
        "X_test_scaled = scaler.transform(X_test)"
      ],
      "metadata": {
        "id": "pezL0ua4uA5W"
      },
      "execution_count": null,
      "outputs": []
    },
    {
      "cell_type": "code",
      "source": [
        "# Function to evaluate regression models\n",
        "def evaluate_model(y_true, y_pred, model_name):\n",
        "    \"\"\"\n",
        "    Calculate and print various regression metrics\n",
        "\n",
        "    Parameters:\n",
        "    y_true : Actual target values\n",
        "    y_pred : Predicted target values\n",
        "    model_name : Name of the model for printing purposes\n",
        "\n",
        "    Returns:\n",
        "    dict : Dictionary containing all calculated metrics\n",
        "    \"\"\"\n",
        "    mse = mean_squared_error(y_true, y_pred)\n",
        "    rmse = np.sqrt(mse)\n",
        "    mae = mean_absolute_error(y_true, y_pred)\n",
        "    r2 = r2_score(y_true, y_pred)\n",
        "\n",
        "    print(f\"\\n{model_name} Results:\")\n",
        "    print(f\"Mean Squared Error: {mse:.4f}\")\n",
        "    print(f\"Root Mean Squared Error: {rmse:.4f}\")\n",
        "    print(f\"Mean Absolute Error: {mae:.4f}\")\n",
        "    print(f\"R-squared Score: {r2:.4f}\")\n",
        "\n",
        "    return {'mse': mse, 'rmse': rmse, 'mae': mae, 'r2': r2}"
      ],
      "metadata": {
        "id": "Q7qSggERyjw0"
      },
      "execution_count": null,
      "outputs": []
    },
    {
      "cell_type": "code",
      "source": [
        "# 1. Standard Linear Regression\n",
        "print(\"\\n--- Standard Linear Regression ---\")"
      ],
      "metadata": {
        "id": "iQHH5lVTyjtJ"
      },
      "execution_count": null,
      "outputs": []
    },
    {
      "cell_type": "code",
      "source": [
        "# Initialize and train the standard linear regression model\n",
        "linear_reg = LinearRegression()\n",
        "linear_reg.fit(X_train_scaled, y_train)"
      ],
      "metadata": {
        "id": "x2YG9N4Ryjqa"
      },
      "execution_count": null,
      "outputs": []
    },
    {
      "cell_type": "code",
      "source": [
        "# Make predictions\n",
        "y_pred_linear = linear_reg.predict(X_test_scaled)"
      ],
      "metadata": {
        "id": "WeXa5Ntvyjiz"
      },
      "execution_count": null,
      "outputs": []
    },
    {
      "cell_type": "code",
      "source": [
        "# Evaluate standard linear regression\n",
        "linear_metrics = evaluate_model(y_test, y_pred_linear, \"Standard Linear Regression\")"
      ],
      "metadata": {
        "id": "0IAWnJs3yjW_"
      },
      "execution_count": null,
      "outputs": []
    },
    {
      "cell_type": "code",
      "source": [
        "# 2. Polynomial Regression (Linear Regression with Basis Functions)\n",
        "print(\"\\n--- Polynomial Regression ---\")"
      ],
      "metadata": {
        "id": "nb2EwOccy-pR"
      },
      "execution_count": null,
      "outputs": []
    },
    {
      "cell_type": "code",
      "source": [
        "# Create polynomial features\n",
        "poly = PolynomialFeatures(degree=2, include_bias=False)\n",
        "X_train_poly = poly.fit_transform(X_train_scaled)\n",
        "X_test_poly = poly.transform(X_test_scaled)"
      ],
      "metadata": {
        "id": "iWaxlBhEy-md"
      },
      "execution_count": null,
      "outputs": []
    },
    {
      "cell_type": "code",
      "source": [
        "# Initialize and train the polynomial regression model\n",
        "poly_reg = LinearRegression()\n",
        "poly_reg.fit(X_train_poly, y_train)"
      ],
      "metadata": {
        "id": "XtHTY7mey-i2"
      },
      "execution_count": null,
      "outputs": []
    },
    {
      "cell_type": "code",
      "source": [
        "# Make predictions\n",
        "y_pred_poly = poly_reg.predict(X_test_poly)"
      ],
      "metadata": {
        "id": "IAZnPeUJy-aa"
      },
      "execution_count": null,
      "outputs": []
    },
    {
      "cell_type": "code",
      "source": [
        "# Evaluate polynomial regression\n",
        "poly_metrics = evaluate_model(y_test, y_pred_poly, \"Polynomial Regression\")"
      ],
      "metadata": {
        "id": "ZybtIeJGzU7L"
      },
      "execution_count": null,
      "outputs": []
    },
    {
      "cell_type": "code",
      "source": [
        "# Visualization functions\n",
        "def plot_actual_vs_predicted(y_test, y_pred_linear, y_pred_poly):\n",
        "    \"\"\"\n",
        "    Create a plot comparing actual values with predictions from both models\n",
        "    \"\"\"\n",
        "    plt.figure(figsize=(15, 6))\n",
        "\n",
        "    # Plot for standard linear regression\n",
        "    plt.subplot(121)\n",
        "    plt.scatter(y_test, y_pred_linear, alpha=0.5)\n",
        "    plt.plot([y_test.min(), y_test.max()], [y_test.min(), y_test.max()], 'r--', lw=2)\n",
        "    plt.xlabel(\"Actual Values\")\n",
        "    plt.ylabel(\"Predicted Values\")\n",
        "    plt.title(\"Standard Linear Regression\")\n",
        "\n",
        "    # Plot for polynomial regression\n",
        "    plt.subplot(122)\n",
        "    plt.scatter(y_test, y_pred_poly, alpha=0.5)\n",
        "    plt.plot([y_test.min(), y_test.max()], [y_test.min(), y_test.max()], 'r--', lw=2)\n",
        "    plt.xlabel(\"Actual Values\")\n",
        "    plt.ylabel(\"Predicted Values\")\n",
        "    plt.title(\"Polynomial Regression\")\n",
        "\n",
        "    plt.tight_layout()\n",
        "    plt.show()\n",
        "\n",
        "def plot_residuals(y_test, y_pred_linear, y_pred_poly):\n",
        "    \"\"\"\n",
        "    Create residual plots for both models\n",
        "    \"\"\"\n",
        "    plt.figure(figsize=(15, 6))\n",
        "\n",
        "    # Residual plot for standard linear regression\n",
        "    plt.subplot(121)\n",
        "    residuals_linear = y_test - y_pred_linear\n",
        "    plt.scatter(y_pred_linear, residuals_linear, alpha=0.5)\n",
        "    plt.axhline(y=0, color='r', linestyle='--')\n",
        "    plt.xlabel(\"Predicted Values\")\n",
        "    plt.ylabel(\"Residuals\")\n",
        "    plt.title(\"Residual Plot - Standard Linear Regression\")\n",
        "\n",
        "    # Residual plot for polynomial regression\n",
        "    plt.subplot(122)\n",
        "    residuals_poly = y_test - y_pred_poly\n",
        "    plt.scatter(y_pred_poly, residuals_poly, alpha=0.5)\n",
        "    plt.axhline(y=0, color='r', linestyle='--')\n",
        "    plt.xlabel(\"Predicted Values\")\n",
        "    plt.ylabel(\"Residuals\")\n",
        "    plt.title(\"Residual Plot - Polynomial Regression\")\n",
        "\n",
        "    plt.tight_layout()\n",
        "    plt.show()"
      ],
      "metadata": {
        "id": "alv_2uTozU40"
      },
      "execution_count": null,
      "outputs": []
    },
    {
      "cell_type": "code",
      "source": [
        "# Generate visualizations\n",
        "plot_actual_vs_predicted(y_test, y_pred_linear, y_pred_poly)\n",
        "plot_residuals(y_test, y_pred_linear, y_pred_poly)"
      ],
      "metadata": {
        "id": "DUx4WbNCzUzK"
      },
      "execution_count": null,
      "outputs": []
    },
    {
      "cell_type": "code",
      "source": [
        "# Feature importance analysis\n",
        "def plot_feature_importance(model, feature_names, model_name):\n",
        "    \"\"\"\n",
        "    Plot feature importance for the given model\n",
        "    \"\"\"\n",
        "    importance = pd.DataFrame({\n",
        "        'feature': feature_names,\n",
        "        'importance': abs(model.coef_)\n",
        "    })\n",
        "    importance = importance.sort_values('importance', ascending=False)\n",
        "\n",
        "    plt.figure(figsize=(12, 6))\n",
        "    sns.barplot(x='importance', y='feature', data=importance.head(10))\n",
        "    plt.title(f\"Top 10 Feature Importance - {model_name}\")\n",
        "    plt.tight_layout()\n",
        "    plt.show()"
      ],
      "metadata": {
        "id": "TFNiyue-zUv8"
      },
      "execution_count": null,
      "outputs": []
    },
    {
      "cell_type": "code",
      "source": [
        "# Plot feature importance for standard linear regression\n",
        "plot_feature_importance(linear_reg, X.columns, \"Standard Linear Regression\")"
      ],
      "metadata": {
        "id": "7jqqqKjrzUtm"
      },
      "execution_count": null,
      "outputs": []
    },
    {
      "cell_type": "code",
      "source": [
        "# For polynomial regression, get the feature names and plot importance\n",
        "poly_feature_names = poly.get_feature_names_out(X.columns)\n",
        "plot_feature_importance(poly_reg, poly_feature_names, \"Polynomial Regression\")"
      ],
      "metadata": {
        "id": "-kX9bb0YzUq6"
      },
      "execution_count": null,
      "outputs": []
    },
    {
      "cell_type": "code",
      "source": [
        "# Print comparison summary\n",
        "print(\"\\n--- Model Comparison Summary ---\")\n",
        "comparison_df = pd.DataFrame({\n",
        "    'Metric': ['MSE', 'RMSE', 'MAE', 'R-squared'],\n",
        "    'Standard Linear Regression': [linear_metrics['mse'], linear_metrics['rmse'],\n",
        "                                  linear_metrics['mae'], linear_metrics['r2']],\n",
        "    'Polynomial Regression': [poly_metrics['mse'], poly_metrics['rmse'],\n",
        "                             poly_metrics['mae'], poly_metrics['r2']]\n",
        "})\n",
        "print(comparison_df)"
      ],
      "metadata": {
        "id": "63weYycZzUoC"
      },
      "execution_count": null,
      "outputs": []
    }
  ]
}