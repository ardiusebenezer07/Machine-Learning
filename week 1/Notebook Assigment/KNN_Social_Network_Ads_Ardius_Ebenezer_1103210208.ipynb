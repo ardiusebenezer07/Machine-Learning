{
  "nbformat": 4,
  "nbformat_minor": 0,
  "metadata": {
    "colab": {
      "private_outputs": true,
      "provenance": [],
      "include_colab_link": true
    },
    "kernelspec": {
      "name": "python3",
      "display_name": "Python 3"
    },
    "language_info": {
      "name": "python"
    }
  },
  "cells": [
    {
      "cell_type": "markdown",
      "metadata": {
        "id": "view-in-github",
        "colab_type": "text"
      },
      "source": [
        "<a href=\"https://colab.research.google.com/github/ardiusebenezer07/Machine-Learning/blob/main/KNN_Social_Network_Ads_Ardius_Ebenezer_1103210208.ipynb\" target=\"_parent\"><img src=\"https://colab.research.google.com/assets/colab-badge.svg\" alt=\"Open In Colab\"/></a>"
      ]
    },
    {
      "cell_type": "markdown",
      "source": [
        "Nama :Ardius Ebenezer Simanjuntak\n",
        "\n",
        "NIM  :1103210208\n",
        "\n",
        "Dataset :Social_Network_Ads.csv\n",
        "[link text](https://)\n",
        "\n",
        "Prompt ChatGPT : https://chatgpt.com/c/66ff8d48-34d4-8003-a4bd-1598a1872cf3"
      ],
      "metadata": {
        "id": "fRN0quf-mRVb"
      }
    },
    {
      "cell_type": "code",
      "execution_count": null,
      "metadata": {
        "id": "AVIunVEJmOSa"
      },
      "outputs": [],
      "source": [
        "from google.colab import drive\n",
        "drive.mount('/content/drive')"
      ]
    },
    {
      "cell_type": "code",
      "source": [
        "import pandas as pd\n",
        "from sklearn.model_selection import train_test_split\n",
        "from sklearn.neighbors import KNeighborsClassifier\n",
        "from sklearn.metrics import accuracy_score, confusion_matrix\n",
        "from sklearn.preprocessing import StandardScaler\n",
        "import matplotlib.pyplot as plt\n",
        "import seaborn as sns\n",
        "\n",
        "# Load dataset (Social_Network_Ads.csv)\n",
        "url ='Social_Network_Ads.csv'\n",
        "df = pd.read_csv(url)\n",
        "\n",
        "# Assume 'Age' and 'EstimatedSalary' are features and 'Purchased' is the target\n",
        "X = df[['Age', 'EstimatedSalary']]\n",
        "y = df['Purchased']\n",
        "\n",
        "# Split the data into training and testing sets\n",
        "X_train, X_test, y_train, y_test = train_test_split(X, y, test_size=0.2, random_state=42)\n",
        "\n",
        "# Normalize features using StandardScaler\n",
        "scaler = StandardScaler()\n",
        "X_train = scaler.fit_transform(X_train)\n",
        "X_test = scaler.transform(X_test)\n",
        "\n",
        "# Build KNN model\n",
        "model = KNeighborsClassifier(n_neighbors=3)\n",
        "model.fit(X_train, y_train)\n",
        "\n",
        "# Predict on test data\n",
        "y_pred = model.predict(X_test)\n",
        "\n",
        "# Calculate accuracy\n",
        "accuracy = accuracy_score(y_test, y_pred)\n",
        "print(\"Accuracy of KNN:\", accuracy)\n",
        "\n",
        "# Create confusion matrix\n",
        "cm = confusion_matrix(y_test, y_pred)\n",
        "\n",
        "# Visualize confusion matrix\n",
        "plt.figure(figsize=(8, 6))\n",
        "sns.heatmap(cm, annot=True, cmap='Blues', fmt='g')\n",
        "plt.xlabel('Predicted')\n",
        "plt.ylabel('Actual')\n",
        "plt.title('Confusion Matrix - KNN')\n",
        "plt.show()\n",
        "\n",
        "# Optional: If you want to visualize pairplots, ensure you use numerical features only\n",
        "# sns.pairplot(df[['Age', 'EstimatedSalary']])  # Uncomment if needed\n",
        "# plt.show()\n"
      ],
      "metadata": {
        "id": "bp5uGFEEmw3g"
      },
      "execution_count": null,
      "outputs": []
    },
    {
      "cell_type": "markdown",
      "source": [
        "Step by step through the code to explain what each part is doing:\n",
        "\n",
        "1. Importing Necessary Libraries\n",
        "\n",
        "*   pandas (pd): Used to load and manipulate the dataset.\n",
        "*   train_test_split: Splits the data into training and testing sets.\n",
        "*   KNeighborsClassifier: A classifier implementing the k-nearest neighbors (KNN) algorithm, used for classification tasks.\n",
        "*   accuracy_score: A function to calculate the accuracy of the model’s predictions.\n",
        "*   confusion_matrix: A function to compute a confusion matrix to evaluate the accuracy of a classification.\n",
        "*   StandardScaler: A preprocessor used to normalize/scale the features so that each feature has a mean of 0 and a standard deviation of 1.\n",
        "*   matplotlib and seaborn: Libraries used for plotting and visualizing the confusion matrix and data.\n",
        "\n",
        "\n",
        "2. Loading the Dataset\n",
        "*   url: This is the path to the dataset (Social_Network_Ads.csv) stored on your Google Drive.\n",
        "*   pd.read_csv(url): Loads the dataset from the CSV file into a pandas DataFrame called df, allowing further processing.\n",
        "\n",
        "\n",
        "\n",
        "3. Selecting Features (X) and Target (y)\n",
        "*   X: This selects two columns from the DataFrame: Age and EstimatedSalary. These will be used as the input features to train the model.\n",
        "*   y: This selects the column Purchased from the DataFrame. It is the target label (what the model will try to predict: whether a customer purchased a product or not).\n",
        "\n",
        "\n",
        "\n",
        "4. Splitting the Dataset into Training and Testing Sets\n",
        "*   test_size=0.2: 20% of the data is reserved for testing, and 80% is used for training.\n",
        "*   random_state=42: A seed used to ensure the split is the same every time you run the code, for reproducibility.\n",
        "\n",
        "\n",
        "\n",
        "5. Normalizing the Features\n",
        "*   fit_transform(X_train): Fits the scaler to the training data and transforms it by applying the scaling.\n",
        "*   transform(X_test): Applies the same scaling to the test data (based on the training data’s scaling)\n",
        "\n",
        "\n",
        "\n",
        "\n",
        "6. Building and Training the KNN Model\n",
        "*   KNeighborsClassifier(n_neighbors=3): Initializes the KNN classifier with k=3, meaning it will consider the 3 nearest neighbors when classifying a new data point.\n",
        "*   model.fit(X_train, y_train): Trains (fits) the KNN model using the training data (X_train, y_train).\n",
        "\n",
        "\n",
        "\n",
        "7. Making Predictions on Test Data\n",
        "*   model.predict(X_test): The model makes predictions on the test set (X_test). These predictions are stored in y_pred.\n",
        "\n",
        "\n",
        "\n",
        "8. Calculating Accuracy\n",
        "*   accuracy_score(y_test, y_pred): Compares the actual test labels (y_test) with the predicted labels (y_pred) and calculates the accuracy, which is the percentage of correctly predicted instances.\n",
        "*   print(): Prints the accuracy of the KNN model to the console.\n",
        "\n",
        "\n",
        "9. Confusion Matrix\n",
        "*   confusion_matrix(y_test, y_pred): Generates a confusion matrix, which shows the number of correct and incorrect predictions. It's a useful tool for evaluating classification models, as it shows the true positives, true negatives, false positives, and false negatives.\n",
        "\n",
        "\n",
        "10. Visualizing the Confusion Matrix\n",
        "*   plt.figure(figsize=(8, 6)): Initializes the plot with a size of 8x6 inches.\n",
        "*   sns.heatmap(cm, annot=True, cmap='Blues', fmt='g'): Creates a heatmap for the confusion matrix cm using seaborn. The annot=True option adds the numeric values inside each cell of the heatmap, and cmap='Blues' sets the color scheme to shades of blue.\n",
        "*   plt.xlabel('Predicted') and plt.ylabel('Actual'): Labels the x-axis as \"Predicted\" and the y-axis as \"Actual\".\n",
        "*   plt.title('Confusion Matrix - KNN'): Sets the title of the plot.\n",
        "*   plt.show(): Displays the plot.\n",
        "\n",
        "\n",
        "\n",
        "11. Optional: Visualizing Relationships Between Features\n",
        "\n",
        "*   \n",
        "sns.pairplot(): If uncommented, this line would create pairwise plots of the features (Age and EstimatedSalary) in the dataset. This helps visualize the relationships between features and how they are distributed.\n",
        "*   plt.show(): Displays the pairplot if uncommented.\n",
        "\n",
        "\n",
        "\n",
        "\n",
        "\n",
        "\n",
        "\n"
      ],
      "metadata": {
        "id": "wye7K4nBS--u"
      }
    }
  ]
}