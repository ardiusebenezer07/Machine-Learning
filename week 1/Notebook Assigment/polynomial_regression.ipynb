{
  "nbformat": 4,
  "nbformat_minor": 0,
  "metadata": {
    "colab": {
      "private_outputs": true,
      "provenance": [],
      "authorship_tag": "ABX9TyMGhoNFuG5NCXH0O9bfCNJg",
      "include_colab_link": true
    },
    "kernelspec": {
      "name": "python3",
      "display_name": "Python 3"
    },
    "language_info": {
      "name": "python"
    }
  },
  "cells": [
    {
      "cell_type": "markdown",
      "metadata": {
        "id": "view-in-github",
        "colab_type": "text"
      },
      "source": [
        "<a href=\"https://colab.research.google.com/github/SoparAwayyy/Machine-Learning/blob/main/Week2/polynomial_regression.ipynb\" target=\"_parent\"><img src=\"https://colab.research.google.com/assets/colab-badge.svg\" alt=\"Open In Colab\"/></a>"
      ]
    },
    {
      "cell_type": "markdown",
      "source": [
        "Nama: Dwi Saputra Sopar Siagian\n",
        "\n",
        "NIM: 1103210220\n",
        "\n",
        "Dataset:Social_Network_Ads.csv\n",
        "\n",
        "Overview:"
      ],
      "metadata": {
        "id": "x7gLzis1Z3e-"
      }
    },
    {
      "cell_type": "code",
      "source": [
        "from google.colab import drive\n",
        "drive.mount('/content/drive')"
      ],
      "metadata": {
        "id": "idUy8e_vZ2mg"
      },
      "execution_count": null,
      "outputs": []
    },
    {
      "cell_type": "code",
      "source": [
        "import pandas as pd\n",
        "\n",
        "#Membaca file csv yang diinginkan\n",
        "data = pd.read_csv('/content/drive/MyDrive/ML DataSet/Social_Network_Ads.csv')"
      ],
      "metadata": {
        "id": "4vr9oUQAZ_1S"
      },
      "execution_count": null,
      "outputs": []
    },
    {
      "cell_type": "code",
      "source": [
        "data.head()"
      ],
      "metadata": {
        "id": "TF6vIacba69I"
      },
      "execution_count": null,
      "outputs": []
    },
    {
      "cell_type": "code",
      "source": [
        "data.info()"
      ],
      "metadata": {
        "id": "j_4YWJOca3J3"
      },
      "execution_count": null,
      "outputs": []
    },
    {
      "cell_type": "code",
      "source": [
        "import numpy as np\n",
        "from sklearn.model_selection import train_test_split\n",
        "from sklearn.preprocessing import PolynomialFeatures\n",
        "from sklearn.linear_model import LinearRegression\n",
        "from sklearn.metrics import mean_squared_error, r2_score\n",
        "\n",
        "# Contoh data\n",
        "np.random.seed(0)\n",
        "X = 2 * np.random.rand(100, 1)\n",
        "y = 3 * X.squeeze() ** 2 + np.random.randn(100)  # Fungsi kuadratik + noise\n",
        "\n",
        "# Bagi data menjadi data latih dan data uji\n",
        "X_train, X_test, y_train, y_test = train_test_split(X, y, test_size=0.2, random_state=0)\n",
        "\n",
        "# Membuat fitur polinomial\n",
        "degree = 2  # Derajat polinomial yang diinginkan\n",
        "poly_features = PolynomialFeatures(degree=degree)\n",
        "X_train_poly = poly_features.fit_transform(X_train)\n",
        "\n",
        "# Inisialisasi model regresi linear\n",
        "model = LinearRegression()\n",
        "\n",
        "# Melatih model pada data latih\n",
        "model.fit(X_train_poly, y_train)\n",
        "\n",
        "# Melakukan prediksi pada data latih dan data uji\n",
        "X_test_poly = poly_features.transform(X_test)\n",
        "y_pred_train = model.predict(X_train_poly)\n",
        "y_pred_test = model.predict(X_test_poly)\n",
        "\n",
        "# Evaluasi model\n",
        "train_rmse = np.sqrt(mean_squared_error(y_train, y_pred_train))\n",
        "test_rmse = np.sqrt(mean_squared_error(y_test, y_pred_test))\n",
        "train_r2 = r2_score(y_train, y_pred_train)\n",
        "test_r2 = r2_score(y_test, y_pred_test)\n",
        "\n",
        "print(\"Degree polinomial:\", degree)\n",
        "print(\"RMSE pada data latih:\", train_rmse)\n",
        "print(\"RMSE pada data uji:\", test_rmse)\n",
        "print(\"R-squared pada data latih:\", train_r2)\n",
        "print(\"R-squared pada data uji:\", test_r2)\n"
      ],
      "metadata": {
        "id": "v2FyxFz0bLQl"
      },
      "execution_count": null,
      "outputs": []
    }
  ]
}