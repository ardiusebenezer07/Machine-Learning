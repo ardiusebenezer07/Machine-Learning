{
  "nbformat": 4,
  "nbformat_minor": 0,
  "metadata": {
    "colab": {
      "private_outputs": true,
      "provenance": []
    },
    "kernelspec": {
      "name": "python3",
      "display_name": "Python 3"
    },
    "language_info": {
      "name": "python"
    }
  },
  "cells": [
    {
      "cell_type": "markdown",
      "metadata": {
        "id": "view-in-github"
      },
      "source": [
        "<a href=\"https://colab.research.google.com/github/SoparAwayyy/Machine-Learning/blob/main/Week8/8_SVM_Dwi_Saputra_Sopar_Siagian_1103210220.ipynb\" target=\"_parent\"><img src=\"https://colab.research.google.com/assets/colab-badge.svg\" alt=\"Open In Colab\"/></a>"
      ]
    },
    {
      "cell_type": "code",
      "source": [
        "import pandas as pd\n",
        "import seaborn as sns\n",
        "import matplotlib.pyplot as plt\n",
        "from sklearn.model_selection import train_test_split\n",
        "from sklearn.svm import SVC\n",
        "from sklearn.metrics import classification_report, confusion_matrix\n",
        "from sklearn.metrics import accuracy_score\n",
        "from sklearn.model_selection import cross_val_score\n",
        "from sklearn.metrics import make_scorer, accuracy_score, precision_score, recall_score, f1_score"
      ],
      "metadata": {
        "id": "fss7q3MM1ADw"
      },
      "execution_count": null,
      "outputs": []
    },
    {
      "cell_type": "code",
      "execution_count": null,
      "metadata": {
        "id": "Bw7nZYgmuomT"
      },
      "outputs": [],
      "source": [
        "# Menghubungkan dengan Google Drive\n",
        "from google.colab import drive\n",
        "drive.mount('/content/drive')"
      ]
    },
    {
      "cell_type": "code",
      "source": [
        "# Memuat data\n",
        "file_path = '/content/drive/MyDrive/ML DataSet/heart_failure_clinical_records_dataset.csv'\n",
        "data = pd.read_csv(file_path)"
      ],
      "metadata": {
        "id": "abefnwMn0Sl3"
      },
      "execution_count": null,
      "outputs": []
    },
    {
      "cell_type": "markdown",
      "source": [
        "**ADDITIONAL**\n",
        "Thirteen (13) clinical features:\n",
        "\n",
        "- age: age of the patient (years)\n",
        "- anaemia: decrease of red blood cells or hemoglobin (boolean)\n",
        "- creatinine phosphokinase  (CPK): level of the CPK enzyme in the blood (mcg/L)\n",
        "- diabetes: if the patient has diabetes (boolean)\n",
        "- ejection fraction: percentage of blood leaving the heart at each contraction  (percentage)\n",
        "- high blood pressure: if the patient has hypertension (boolean)\n",
        "- platelets: platelets in the blood (kiloplatelets/mL)\n",
        "- sex: woman or man (binary)\n",
        "- serum creatinine: level of serum creatinine in the blood (mg/dL)\n",
        "- serum sodium: level of serum sodium in the blood (mEq/L)\n",
        "- smoking: if the patient smokes or not (boolean)\n",
        "- time: follow-up period (days)\n",
        "- [target] death event: if the patient died during the follow-up period (boolean)"
      ],
      "metadata": {
        "id": "xYyxnqbAC9C6"
      }
    },
    {
      "cell_type": "code",
      "source": [
        "data.head()"
      ],
      "metadata": {
        "id": "j4avDvGp1KPw"
      },
      "execution_count": null,
      "outputs": []
    },
    {
      "cell_type": "code",
      "source": [
        "data.info()"
      ],
      "metadata": {
        "id": "YCG0n-hl0fTt"
      },
      "execution_count": null,
      "outputs": []
    },
    {
      "cell_type": "code",
      "source": [
        "data.describe()"
      ],
      "metadata": {
        "id": "Np1-rWmQ6N7_"
      },
      "execution_count": null,
      "outputs": []
    },
    {
      "cell_type": "code",
      "source": [
        "# Membuat pairplot untuk melihat distribusi data setiap fitur\n",
        "sns.pairplot(data)\n",
        "plt.show()\n"
      ],
      "metadata": {
        "id": "JgPrbFrr-6Rs"
      },
      "execution_count": null,
      "outputs": []
    },
    {
      "cell_type": "code",
      "source": [
        "# Dataframe\n",
        "# Misalkan data_frame adalah dataframe yang berisi dataset Anda\n",
        "\n",
        "# Fitur-fitur yang akan divisualisasikan\n",
        "features = ['age', 'creatinine_phosphokinase', 'ejection_fraction', 'platelets', 'serum_creatinine', 'serum_sodium', 'time']\n",
        "\n",
        "# Loop untuk membuat plot untuk setiap fitur\n",
        "for feature in features:\n",
        "    plt.figure(figsize=(8, 6))\n",
        "    sns.histplot(data[feature], kde=True, bins=20, color='skyblue')\n",
        "    plt.title(f'Distribusi {feature}')\n",
        "    plt.xlabel(feature)\n",
        "    plt.ylabel('Frekuensi')\n",
        "    plt.grid(True)\n",
        "    plt.show()"
      ],
      "metadata": {
        "id": "QWwEjS8HAduy"
      },
      "execution_count": null,
      "outputs": []
    },
    {
      "cell_type": "markdown",
      "source": [
        "**VISUALIZATION** kolerasi antar feature"
      ],
      "metadata": {
        "id": "ailAy7b8Ch_q"
      }
    },
    {
      "cell_type": "code",
      "source": [
        "# Hitung matriks korelasi\n",
        "correlation_matrix = data.corr()\n",
        "\n",
        "# Plot heatmap\n",
        "plt.figure(figsize=(10, 8))\n",
        "sns.heatmap(correlation_matrix, annot=True, cmap='coolwarm', fmt=\".2f\", linewidths=0.5)\n",
        "plt.title('Korelasi antar Fitur')\n",
        "plt.show()"
      ],
      "metadata": {
        "id": "Iy_wEoiECAg6"
      },
      "execution_count": null,
      "outputs": []
    },
    {
      "cell_type": "code",
      "source": [
        "# Membagi dataset menjadi data pelatihan dan data pengujian\n",
        "X = data.drop('DEATH_EVENT', axis=1)  # Fitur\n",
        "y = data['DEATH_EVENT']  # Target\n",
        "\n",
        "X_train, X_test, y_train, y_test = train_test_split(X, y, test_size=0.2, random_state=42)\n",
        "\n",
        "# Membuat model SVM\n",
        "svm_model = SVC(kernel='linear', C=1)\n",
        "\n",
        "# Melatih model\n",
        "svm_model.fit(X_train, y_train)\n",
        "\n",
        "# Memprediksi data pengujian\n",
        "y_pred = svm_model.predict(X_test)\n",
        "\n",
        "# Evaluasi model\n",
        "print(\"Confusion Matrix:\\n\", confusion_matrix(y_test, y_pred))\n",
        "print(\"\\nClassification Report:\\n\", classification_report(y_test, y_pred))"
      ],
      "metadata": {
        "id": "vt93NIShCrZg"
      },
      "execution_count": null,
      "outputs": []
    },
    {
      "cell_type": "code",
      "source": [
        "# Hitung akurasi\n",
        "accuracy = accuracy_score(y_test, y_pred)\n",
        "print(\"Accuracy:\", accuracy)"
      ],
      "metadata": {
        "id": "WiE00pfiEPvw"
      },
      "execution_count": null,
      "outputs": []
    },
    {
      "cell_type": "markdown",
      "source": [
        "Akurasi yang di dapat yaitu 75%"
      ],
      "metadata": {
        "id": "ca9YDg55Jvmn"
      }
    },
    {
      "cell_type": "code",
      "source": [
        "from sklearn.metrics import accuracy_score, precision_score, recall_score, f1_score, confusion_matrix, classification_report\n",
        "from sklearn.model_selection import cross_validate\n",
        "from sklearn.svm import SVC\n",
        "\n",
        "# Definisi hyperparameters yang akan diuji\n",
        "hyperparameters = [\n",
        "    {'kernel': 'linear', 'C': 1},\n",
        "    {'kernel': 'rbf', 'C': 1, 'gamma': 'scale'},\n",
        "    {'kernel': 'poly', 'C': 1, 'degree': 3}\n",
        "]\n",
        "\n",
        "# Membuat model SVM dengan cross-validation\n",
        "results = {}\n",
        "for params in hyperparameters:\n",
        "    svm_model = SVC(**params)\n",
        "    scores = cross_validate(svm_model, X_train, y_train, cv=5, scoring=('accuracy', 'precision', 'recall', 'f1'))\n",
        "    results[str(params)] = scores\n",
        "\n",
        "# Menampilkan hasil komparasi\n",
        "for params, scores in results.items():\n",
        "    print(f\"Hyperparameters: {params}\")\n",
        "    print(\"Accuracy:\", scores['test_accuracy'].mean())\n",
        "    print(\"Precision:\", scores['test_precision'].mean())\n",
        "    print(\"Recall:\", scores['test_recall'].mean())\n",
        "    print(\"F1 Score:\", scores['test_f1'].mean())\n",
        "    print()\n",
        "\n",
        "    # Prediksi untuk confusion matrix dan classification report\n",
        "    svm_model = SVC(**eval(params))\n",
        "    svm_model.fit(X_train, y_train)\n",
        "    y_pred = svm_model.predict(X_test)\n",
        "\n",
        "    # Menampilkan confusion matrix\n",
        "    print(\"Confusion Matrix:\")\n",
        "    print(confusion_matrix(y_test, y_pred))\n",
        "    print()\n",
        "\n",
        "    # Menampilkan classification report\n",
        "    print(\"Classification Report:\")\n",
        "    print(classification_report(y_test, y_pred))\n",
        "    print()\n"
      ],
      "metadata": {
        "id": "7E1pS6k_E4zo"
      },
      "execution_count": null,
      "outputs": []
    }
  ]
}