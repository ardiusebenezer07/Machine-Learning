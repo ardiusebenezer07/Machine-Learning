{
  "nbformat": 4,
  "nbformat_minor": 0,
  "metadata": {
    "colab": {
      "private_outputs": true,
      "provenance": [],
      "include_colab_link": true
    },
    "kernelspec": {
      "name": "python3",
      "display_name": "Python 3"
    },
    "language_info": {
      "name": "python"
    }
  },
  "cells": [
    {
      "cell_type": "markdown",
      "metadata": {
        "id": "view-in-github",
        "colab_type": "text"
      },
      "source": [
        "<a href=\"https://colab.research.google.com/github/ardiusebenezer07/Machine-Learning/blob/main/Linear%20Regression_salary_Ardius%20Ebenezer_1103210208.ipynb\" target=\"_parent\"><img src=\"https://colab.research.google.com/assets/colab-badge.svg\" alt=\"Open In Colab\"/></a>"
      ]
    },
    {
      "cell_type": "markdown",
      "source": [
        "Nama: Ardius Ebenezer Simanjuntak\n",
        "\n",
        "NIM: 1103210208\n",
        "\n",
        "Dataset: Salary data\n"
      ],
      "metadata": {
        "id": "PVkRBSD03Oum"
      }
    },
    {
      "cell_type": "code",
      "execution_count": null,
      "metadata": {
        "id": "VzRpCd6e07ws"
      },
      "outputs": [],
      "source": [
        "from google.colab import drive\n",
        "drive.mount('/content/drive')\n"
      ]
    },
    {
      "cell_type": "code",
      "source": [
        "from sklearn.model_selection import train_test_split # data test dan data split\n",
        "from sklearn.linear_model import LinearRegression\n",
        "from sklearn.metrics import mean_squared_error\n",
        "import matplotlib.pyplot as plt #hasil dari prediksi"
      ],
      "metadata": {
        "id": "Jt4R_A_C6Ngl"
      },
      "execution_count": null,
      "outputs": []
    },
    {
      "cell_type": "code",
      "source": [
        "import pandas as pd\n",
        "\n",
        "#Membaca file csv yang diinginkan\n",
        "data = pd.read_csv('Salary_Data.csv')"
      ],
      "metadata": {
        "id": "AV_O-zI9253n"
      },
      "execution_count": null,
      "outputs": []
    },
    {
      "cell_type": "code",
      "source": [
        "data.head(10)"
      ],
      "metadata": {
        "id": "UfqSF9Dy34uq"
      },
      "execution_count": null,
      "outputs": []
    },
    {
      "cell_type": "code",
      "source": [
        "data_shape = data.shape\n",
        "print(data_shape)\n",
        "#kita ketahui ia memiliki 30 baris dan 2 kolom"
      ],
      "metadata": {
        "id": "xXHV7yf54GaW"
      },
      "execution_count": null,
      "outputs": []
    },
    {
      "cell_type": "code",
      "source": [
        "data.info()\n",
        "#kita mengetahui berapa baris dan apa type datanya"
      ],
      "metadata": {
        "id": "6StbEvEN4rVu"
      },
      "execution_count": null,
      "outputs": []
    },
    {
      "cell_type": "markdown",
      "source": [
        "di tahapan ini kita membuat model liniear regression dengan dataset Salary_Data_Simple_SVR_csv\n",
        "\n",
        "Persiapan Data:\n",
        "\n",
        "Impor dataset Salary_Data_Simple_SVR_csv.\n",
        "Pisahkan kolom input (fitur) dan kolom output (label) dari dataset.\n",
        "Bagi dataset menjadi data latih dan data uji.\n",
        "Pemodelan:\n",
        "\n",
        "Impor model regresi linier dari library yang Anda gunakan (misalnya, scikit-learn).\n",
        "Latih model menggunakan data latih.\n",
        "Evaluasi Model:\n",
        "\n",
        "Evaluasi model menggunakan data uji.\n",
        "Hitung metrik evaluasi, seperti mean squared error (MSE) atau coefficient of determination (R^2).\n",
        "Visualisasi (opsional):\n",
        "\n",
        "Jika diinginkan, Anda dapat memvisualisasikan hasil model, seperti garis regresi di atas data latih."
      ],
      "metadata": {
        "id": "wloD3zlo54fV"
      }
    },
    {
      "cell_type": "code",
      "source": [
        "# Pisahkan fitur (input) dan label (output)\n",
        "X = data.iloc[:, :-1].values #feature\n",
        "y = data.iloc[:, 1].values #target"
      ],
      "metadata": {
        "id": "ScEPgi8l63lV"
      },
      "execution_count": null,
      "outputs": []
    },
    {
      "cell_type": "code",
      "source": [
        "#Membuat model\n",
        "X_train, X_test, y_train, y_test =train_test_split(X, y, test_size=0.2, random_state=42) # beberapa baris di bagikan data train dan beberapa bari dibagikan data test\n",
        "model = LinearRegression()\n",
        "model.fit(X_train, y_train)"
      ],
      "metadata": {
        "id": "N5gPkyZVuWJh"
      },
      "execution_count": null,
      "outputs": []
    },
    {
      "cell_type": "code",
      "source": [
        "#Tahap selanjutnya Evaluasi Model\n",
        "y_pred = model.predict(X_test)\n",
        "mse = mean_squared_error(y_test,y_pred)\n",
        "print(\"Mean Squared Error:\", mse)"
      ],
      "metadata": {
        "id": "AnYMZ7RawBr1"
      },
      "execution_count": null,
      "outputs": []
    },
    {
      "cell_type": "code",
      "source": [
        "from sklearn.metrics import mean_squared_error, mean_absolute_error\n",
        "import numpy as np\n",
        "\n",
        "# Fungsi untuk menghitung MAPE (Mean Absolute Percentage Error)\n",
        "def mean_absolute_percentage_error(y_true, y_pred):\n",
        "    y_true, y_pred = np.array(y_true), np.array(y_pred)\n",
        "    return np.mean(np.abs((y_true - y_pred) / y_true)) * 100\n",
        "\n",
        "# Menghitung RMSE\n",
        "rmse = np.sqrt(mean_squared_error(y_test, y_pred))\n",
        "print('Root Mean Squared Error (RMSE):', rmse)\n",
        "\n",
        "# Menghitung MAE\n",
        "mae = mean_absolute_error(y_test, y_pred)\n",
        "print('Mean Absolute Error (MAE):', mae)\n",
        "\n",
        "# Menghitung MAPE\n",
        "mape = mean_absolute_percentage_error(y_test, y_pred)\n",
        "print('Mean Absolute Percentage Error (MAPE):', mape)\n",
        "\n",
        "# Menghitung R-squared (R2)\n",
        "from sklearn.metrics import r2_score\n",
        "r2 = r2_score(y_test, y_pred)\n",
        "print('R-squared (R2):', r2)\n"
      ],
      "metadata": {
        "id": "XWUfxxbhw9CM"
      },
      "execution_count": null,
      "outputs": []
    },
    {
      "cell_type": "code",
      "source": [
        "#Visualisai Hasil\n",
        "plt.scatter(X_test, y_test, color='red') #bintik data test kita\n",
        "plt.plot(X_test, y_pred,color='blue') # garislinear\n",
        "plt.title('Salary vs Exprience(Test set)')\n",
        "plt.xlabel('Years or Experience') #garis x yang berisi years of experience\n",
        "plt.ylabel('Salary') #garis y yang berisi Salary\n",
        "plt.show()"
      ],
      "metadata": {
        "id": "Z-CEGQe_xJQF"
      },
      "execution_count": null,
      "outputs": []
    },
    {
      "cell_type": "markdown",
      "source": [
        "frompt :melakukan visualisasi pada data train, data test, dengan garis regresi dari modelnya?"
      ],
      "metadata": {
        "id": "XvaBzLpq6X1e"
      }
    },
    {
      "cell_type": "code",
      "source": [
        "# Visualisasi data pelatihan\n",
        "plt.scatter(X_train, y_train, color='blue', label='Training Data')\n",
        "\n",
        "# Visualisasi data pengujian\n",
        "plt.scatter(X_test, y_test, color='red', label='Testing Data')\n",
        "\n",
        "# Visualisasi garis regresi\n",
        "plt.plot(X_train, model.predict(X_train), color='green', label='Regression Line')\n",
        "\n",
        "plt.title('Salary vs Experience')\n",
        "plt.xlabel('Years of Experience')\n",
        "plt.ylabel('Salary')\n",
        "plt.legend()\n",
        "plt.show()\n"
      ],
      "metadata": {
        "id": "7s0BznUy6c2H"
      },
      "execution_count": null,
      "outputs": []
    },
    {
      "cell_type": "code",
      "source": [
        "df_test = pd.DataFrame(X_test,columns=['YearsExperience'])\n",
        "df_test['Actual']= y_test\n",
        "df_test['Predict'] = y_pred\n",
        "df_test"
      ],
      "metadata": {
        "id": "AUPZ01Cx7kZ6"
      },
      "execution_count": null,
      "outputs": []
    },
    {
      "cell_type": "code",
      "source": [
        "#memilih data dalam bentuk numpy array\n",
        "new_data = np.array([[12]]) # contoh daata baru dengan pengalaman 12 tahun\n",
        "\n",
        "#melakukan prediksi dengan model\n",
        "predicted_salary = model.predict(new_data)\n",
        "\n",
        "print(\"Predict Salary:\", predicted_salary)"
      ],
      "metadata": {
        "id": "nguWczaL-xRp"
      },
      "execution_count": null,
      "outputs": []
    }
  ]
}