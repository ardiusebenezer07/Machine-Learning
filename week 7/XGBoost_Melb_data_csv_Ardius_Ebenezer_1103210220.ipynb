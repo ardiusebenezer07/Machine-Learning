{
  "nbformat": 4,
  "nbformat_minor": 0,
  "metadata": {
    "colab": {
      "private_outputs": true,
      "provenance": []
    },
    "kernelspec": {
      "name": "python3",
      "display_name": "Python 3"
    },
    "language_info": {
      "name": "python"
    }
  },
  "cells": [
    {
      "cell_type": "markdown",
      "metadata": {
        "id": "view-in-github"
      },
      "source": [
        "<a href=\"https://colab.research.google.com/github/ardiusebenezer07/Machine-Learning/blob/main/XGBoost_Melb_data_csv_Ardius_Ebenezer_1103210220_.ipynb\" target=\"_parent\"><img src=\"https://colab.research.google.com/assets/colab-badge.svg\" alt=\"Open In Colab\"/></a>"
      ]
    },
    {
      "cell_type": "code",
      "source": [
        "# Mengimpor library yang diperlukan\n",
        "import pandas as pd\n",
        "import numpy as np\n",
        "import seaborn as sns\n",
        "import matplotlib.pyplot as plt\n",
        "from sklearn.model_selection import train_test_split\n",
        "from sklearn.ensemble import RandomForestRegressor\n",
        "from xgboost import XGBRegressor\n",
        "from sklearn.tree import DecisionTreeRegressor\n",
        "from sklearn.metrics import mean_absolute_error\n",
        "from sklearn.impute import SimpleImputer"
      ],
      "metadata": {
        "id": "R_fFuGomZ5Xp"
      },
      "execution_count": null,
      "outputs": []
    },
    {
      "cell_type": "code",
      "execution_count": null,
      "metadata": {
        "id": "hAgKqLJMZCWD"
      },
      "outputs": [],
      "source": [
        "# Menghubungkan dengan Google Drive\n",
        "from google.colab import drive\n",
        "drive.mount('/content/drive')"
      ]
    },
    {
      "cell_type": "code",
      "source": [
        "# Memuat data\n",
        "file_path = '/content/drive/MyDrive/melb_data.csv'\n",
        "data = pd.read_csv(file_path)"
      ],
      "metadata": {
        "id": "W17KE2VHZG6N"
      },
      "execution_count": null,
      "outputs": []
    },
    {
      "cell_type": "code",
      "source": [
        "data.info()"
      ],
      "metadata": {
        "id": "pqfWHlbvZcwy"
      },
      "execution_count": null,
      "outputs": []
    },
    {
      "cell_type": "code",
      "source": [
        "# Rekayasa fitur (feature engineering)\n",
        "# Contoh: mengisi missing values dengan mean atau modus, mengubah data kategorikal menjadi numerik, dll.\n",
        "\n",
        "# Memvisualisasikan data\n",
        "# Contoh: memvisualisasikan sebaran harga rumah (Price) terhadap luas tanah (Landsize)\n",
        "plt.scatter(data['Landsize'], data['Price'])\n",
        "plt.xlabel('Landsize')\n",
        "plt.ylabel('Price')\n",
        "plt.title('Scatter Plot of Price vs Landsize')\n",
        "plt.show()"
      ],
      "metadata": {
        "id": "bdoC2DectsW_"
      },
      "execution_count": null,
      "outputs": []
    },
    {
      "cell_type": "code",
      "source": [
        "# Mengambil hanya fitur numerik\n",
        "numerical_features = data.select_dtypes(include=['int64', 'float64'])\n",
        "\n",
        "# Menghitung korelasi antar fitur\n",
        "correlation_matrix = numerical_features.corr()\n",
        "\n",
        "# Membuat heatmap korelasi\n",
        "plt.figure(figsize=(12, 10))\n",
        "sns.heatmap(correlation_matrix, annot=True, cmap='coolwarm', fmt=\".2f\")\n",
        "plt.title('Heatmap of Correlation Matrix')\n",
        "plt.show()"
      ],
      "metadata": {
        "id": "xJW27Ypox01F"
      },
      "execution_count": null,
      "outputs": []
    },
    {
      "cell_type": "code",
      "source": [
        "# Membagi data menjadi train dan test set (80% train, 20% test)\n",
        "X = data.drop('Price', axis=1)\n",
        "y = data['Price']\n",
        "X_train, X_test, y_train, y_test = train_test_split(X, y, test_size=0.2, random_state=42)\n",
        "\n",
        "# Encoding fitur kategorikal menggunakan one-hot encoding\n",
        "X_train_encoded = pd.get_dummies(X_train)\n",
        "X_test_encoded = pd.get_dummies(X_test)\n",
        "\n",
        "# Memastikan keduanya memiliki jumlah kolom yang sama setelah encoding\n",
        "missing_cols = set(X_train_encoded.columns) - set(X_test_encoded.columns)\n",
        "for col in missing_cols:\n",
        "    X_test_encoded[col] = 0\n",
        "X_test_encoded = X_test_encoded[X_train_encoded.columns]\n",
        "\n",
        "# Mengganti nilai NaN dengan nilai yang sesuai (misalnya, mean) menggunakan SimpleImputer\n",
        "imputer = SimpleImputer(strategy='mean')\n",
        "X_train_imputed = imputer.fit_transform(X_train_encoded)\n",
        "X_test_imputed = imputer.transform(X_test_encoded)\n",
        "\n",
        "# Pelatihan model menggunakan XGBRegressor setelah data diimputasi\n",
        "xgb_model = XGBRegressor()\n",
        "xgb_model.fit(X_train_imputed, y_train)\n",
        "\n",
        "# Pelatihan model menggunakan RandomForestRegressor setelah data diimputasi\n",
        "rf_model = RandomForestRegressor()\n",
        "rf_model.fit(X_train_imputed, y_train)\n",
        "\n",
        "# Pelatihan model menggunakan DecisionTreeRegressor setelah data diimputasi\n",
        "dt_model = DecisionTreeRegressor()\n",
        "dt_model.fit(X_train_imputed, y_train)\n",
        "\n",
        "# Mengevaluasi model menggunakan MAE setelah data diimputasi\n",
        "y_pred_xgb = xgb_model.predict(X_test_imputed)\n",
        "mae_xgb = mean_absolute_error(y_test, y_pred_xgb)\n",
        "print(\"MAE (XGBoost):\", mae_xgb)\n",
        "\n",
        "y_pred_rf = rf_model.predict(X_test_imputed)\n",
        "mae_rf = mean_absolute_error(y_test, y_pred_rf)\n",
        "print(\"MAE (Random Forest):\", mae_rf)\n",
        "\n",
        "y_pred_dt = dt_model.predict(X_test_imputed)\n",
        "mae_dt = mean_absolute_error(y_test, y_pred_dt)\n",
        "print(\"MAE (Decision Tree):\", mae_dt)"
      ],
      "metadata": {
        "id": "j2FyLj_gv25W"
      },
      "execution_count": null,
      "outputs": []
    }
  ]
}